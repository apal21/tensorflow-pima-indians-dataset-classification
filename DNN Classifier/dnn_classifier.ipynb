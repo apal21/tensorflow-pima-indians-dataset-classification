{
  "nbformat": 4,
  "nbformat_minor": 0,
  "metadata": {
    "colab": {
      "name": "Pima Indians DNN.ipynb",
      "version": "0.3.2",
      "provenance": []
    },
    "kernelspec": {
      "name": "python3",
      "display_name": "Python 3"
    },
    "accelerator": "GPU"
  },
  "cells": [
    {
      "metadata": {
        "id": "z29SCMq0Ko4N",
        "colab_type": "text"
      },
      "cell_type": "markdown",
      "source": [
        "# Pima Indians Diabetes Dataset DNN Classification\n",
        "## Using Tensorflow in Google Colab\n",
        "\n",
        "### Import libraries"
      ]
    },
    {
      "metadata": {
        "id": "CGQLidodIg9K",
        "colab_type": "code",
        "colab": {}
      },
      "cell_type": "code",
      "source": [
        "import tensorflow as tf\n",
        "import pandas as pd\n",
        "import matplotlib.pyplot as plt"
      ],
      "execution_count": 0,
      "outputs": []
    },
    {
      "metadata": {
        "id": "IAgpR8VLNKSP",
        "colab_type": "text"
      },
      "cell_type": "markdown",
      "source": [
        "### I've stored my data in Google Drive. So if your data is not on Google Drive, this step is optional."
      ]
    },
    {
      "metadata": {
        "id": "2p4zgDfHNXre",
        "colab_type": "code",
        "colab": {
          "base_uri": "https://localhost:8080/",
          "height": 34
        },
        "outputId": "7b725743-0ffe-4602-e8e3-769be78915d5"
      },
      "cell_type": "code",
      "source": [
        "from google.colab import drive\n",
        "drive.mount('/content/drive')\n"
      ],
      "execution_count": 2,
      "outputs": [
        {
          "output_type": "stream",
          "text": [
            "Mounted at /content/drive\n"
          ],
          "name": "stdout"
        }
      ]
    },
    {
      "metadata": {
        "id": "A2JXUlgEK_Z4",
        "colab_type": "text"
      },
      "cell_type": "markdown",
      "source": [
        "### Download the data set from [Kaggle](https://www.kaggle.com/uciml/pima-indians-diabetes-database) and load it using `pandas`\n"
      ]
    },
    {
      "metadata": {
        "id": "TgS5vTD0K5oG",
        "colab_type": "code",
        "colab": {
          "base_uri": "https://localhost:8080/",
          "height": 204
        },
        "outputId": "c0800f8b-e4f5-4bd9-b610-d20b135e52d5"
      },
      "cell_type": "code",
      "source": [
        "diabetes = pd.read_csv('/content/drive/My Drive/Colab Notebooks/diabetes.csv')\n",
        "diabetes.head()"
      ],
      "execution_count": 3,
      "outputs": [
        {
          "output_type": "execute_result",
          "data": {
            "text/html": [
              "<div>\n",
              "<style scoped>\n",
              "    .dataframe tbody tr th:only-of-type {\n",
              "        vertical-align: middle;\n",
              "    }\n",
              "\n",
              "    .dataframe tbody tr th {\n",
              "        vertical-align: top;\n",
              "    }\n",
              "\n",
              "    .dataframe thead th {\n",
              "        text-align: right;\n",
              "    }\n",
              "</style>\n",
              "<table border=\"1\" class=\"dataframe\">\n",
              "  <thead>\n",
              "    <tr style=\"text-align: right;\">\n",
              "      <th></th>\n",
              "      <th>Pregnancies</th>\n",
              "      <th>Glucose</th>\n",
              "      <th>BloodPressure</th>\n",
              "      <th>SkinThickness</th>\n",
              "      <th>Insulin</th>\n",
              "      <th>BMI</th>\n",
              "      <th>DiabetesPedigreeFunction</th>\n",
              "      <th>Age</th>\n",
              "      <th>Outcome</th>\n",
              "    </tr>\n",
              "  </thead>\n",
              "  <tbody>\n",
              "    <tr>\n",
              "      <th>0</th>\n",
              "      <td>6</td>\n",
              "      <td>148</td>\n",
              "      <td>72</td>\n",
              "      <td>35</td>\n",
              "      <td>0</td>\n",
              "      <td>33.6</td>\n",
              "      <td>0.627</td>\n",
              "      <td>50</td>\n",
              "      <td>1</td>\n",
              "    </tr>\n",
              "    <tr>\n",
              "      <th>1</th>\n",
              "      <td>1</td>\n",
              "      <td>85</td>\n",
              "      <td>66</td>\n",
              "      <td>29</td>\n",
              "      <td>0</td>\n",
              "      <td>26.6</td>\n",
              "      <td>0.351</td>\n",
              "      <td>31</td>\n",
              "      <td>0</td>\n",
              "    </tr>\n",
              "    <tr>\n",
              "      <th>2</th>\n",
              "      <td>8</td>\n",
              "      <td>183</td>\n",
              "      <td>64</td>\n",
              "      <td>0</td>\n",
              "      <td>0</td>\n",
              "      <td>23.3</td>\n",
              "      <td>0.672</td>\n",
              "      <td>32</td>\n",
              "      <td>1</td>\n",
              "    </tr>\n",
              "    <tr>\n",
              "      <th>3</th>\n",
              "      <td>1</td>\n",
              "      <td>89</td>\n",
              "      <td>66</td>\n",
              "      <td>23</td>\n",
              "      <td>94</td>\n",
              "      <td>28.1</td>\n",
              "      <td>0.167</td>\n",
              "      <td>21</td>\n",
              "      <td>0</td>\n",
              "    </tr>\n",
              "    <tr>\n",
              "      <th>4</th>\n",
              "      <td>0</td>\n",
              "      <td>137</td>\n",
              "      <td>40</td>\n",
              "      <td>35</td>\n",
              "      <td>168</td>\n",
              "      <td>43.1</td>\n",
              "      <td>2.288</td>\n",
              "      <td>33</td>\n",
              "      <td>1</td>\n",
              "    </tr>\n",
              "  </tbody>\n",
              "</table>\n",
              "</div>"
            ],
            "text/plain": [
              "   Pregnancies  Glucose  BloodPressure  SkinThickness  Insulin   BMI  \\\n",
              "0            6      148             72             35        0  33.6   \n",
              "1            1       85             66             29        0  26.6   \n",
              "2            8      183             64              0        0  23.3   \n",
              "3            1       89             66             23       94  28.1   \n",
              "4            0      137             40             35      168  43.1   \n",
              "\n",
              "   DiabetesPedigreeFunction  Age  Outcome  \n",
              "0                     0.627   50        1  \n",
              "1                     0.351   31        0  \n",
              "2                     0.672   32        1  \n",
              "3                     0.167   21        0  \n",
              "4                     2.288   33        1  "
            ]
          },
          "metadata": {
            "tags": []
          },
          "execution_count": 3
        }
      ]
    },
    {
      "metadata": {
        "id": "_WGvAWwWOdh7",
        "colab_type": "text"
      },
      "cell_type": "markdown",
      "source": [
        "### Now we'll list the column names and normalize them between 0 & 1"
      ]
    },
    {
      "metadata": {
        "id": "sq3QUKXyL91G",
        "colab_type": "code",
        "colab": {
          "base_uri": "https://localhost:8080/",
          "height": 68
        },
        "outputId": "50d81fda-5901-49fc-adda-d3d6a38d3bb1"
      },
      "cell_type": "code",
      "source": [
        "diabetes.columns"
      ],
      "execution_count": 4,
      "outputs": [
        {
          "output_type": "execute_result",
          "data": {
            "text/plain": [
              "Index(['Pregnancies', 'Glucose', 'BloodPressure', 'SkinThickness', 'Insulin',\n",
              "       'BMI', 'DiabetesPedigreeFunction', 'Age', 'Outcome'],\n",
              "      dtype='object')"
            ]
          },
          "metadata": {
            "tags": []
          },
          "execution_count": 4
        }
      ]
    },
    {
      "metadata": {
        "id": "YVPk3-kFK-vv",
        "colab_type": "text"
      },
      "cell_type": "markdown",
      "source": [
        "### Here, we'll not normalize Outcome because it is not a continuous feature."
      ]
    },
    {
      "metadata": {
        "id": "P13e-6QDK9za",
        "colab_type": "code",
        "colab": {
          "base_uri": "https://localhost:8080/",
          "height": 204
        },
        "outputId": "a9ce0a9b-c9ca-40c9-c3f7-9f3c8374bc58"
      },
      "cell_type": "code",
      "source": [
        "cols_to_norm = ['Pregnancies', 'Glucose', 'BloodPressure', 'SkinThickness', 'Insulin',\n",
        "       'BMI', 'DiabetesPedigreeFunction', 'Age']\n",
        "\n",
        "diabetes[cols_to_norm] = diabetes[cols_to_norm].apply(lambda x: (x - x.min())/(x.max() - x.min()))\n",
        "\n",
        "diabetes.head()"
      ],
      "execution_count": 5,
      "outputs": [
        {
          "output_type": "execute_result",
          "data": {
            "text/html": [
              "<div>\n",
              "<style scoped>\n",
              "    .dataframe tbody tr th:only-of-type {\n",
              "        vertical-align: middle;\n",
              "    }\n",
              "\n",
              "    .dataframe tbody tr th {\n",
              "        vertical-align: top;\n",
              "    }\n",
              "\n",
              "    .dataframe thead th {\n",
              "        text-align: right;\n",
              "    }\n",
              "</style>\n",
              "<table border=\"1\" class=\"dataframe\">\n",
              "  <thead>\n",
              "    <tr style=\"text-align: right;\">\n",
              "      <th></th>\n",
              "      <th>Pregnancies</th>\n",
              "      <th>Glucose</th>\n",
              "      <th>BloodPressure</th>\n",
              "      <th>SkinThickness</th>\n",
              "      <th>Insulin</th>\n",
              "      <th>BMI</th>\n",
              "      <th>DiabetesPedigreeFunction</th>\n",
              "      <th>Age</th>\n",
              "      <th>Outcome</th>\n",
              "    </tr>\n",
              "  </thead>\n",
              "  <tbody>\n",
              "    <tr>\n",
              "      <th>0</th>\n",
              "      <td>0.352941</td>\n",
              "      <td>0.743719</td>\n",
              "      <td>0.590164</td>\n",
              "      <td>0.353535</td>\n",
              "      <td>0.000000</td>\n",
              "      <td>0.500745</td>\n",
              "      <td>0.234415</td>\n",
              "      <td>0.483333</td>\n",
              "      <td>1</td>\n",
              "    </tr>\n",
              "    <tr>\n",
              "      <th>1</th>\n",
              "      <td>0.058824</td>\n",
              "      <td>0.427136</td>\n",
              "      <td>0.540984</td>\n",
              "      <td>0.292929</td>\n",
              "      <td>0.000000</td>\n",
              "      <td>0.396423</td>\n",
              "      <td>0.116567</td>\n",
              "      <td>0.166667</td>\n",
              "      <td>0</td>\n",
              "    </tr>\n",
              "    <tr>\n",
              "      <th>2</th>\n",
              "      <td>0.470588</td>\n",
              "      <td>0.919598</td>\n",
              "      <td>0.524590</td>\n",
              "      <td>0.000000</td>\n",
              "      <td>0.000000</td>\n",
              "      <td>0.347243</td>\n",
              "      <td>0.253629</td>\n",
              "      <td>0.183333</td>\n",
              "      <td>1</td>\n",
              "    </tr>\n",
              "    <tr>\n",
              "      <th>3</th>\n",
              "      <td>0.058824</td>\n",
              "      <td>0.447236</td>\n",
              "      <td>0.540984</td>\n",
              "      <td>0.232323</td>\n",
              "      <td>0.111111</td>\n",
              "      <td>0.418778</td>\n",
              "      <td>0.038002</td>\n",
              "      <td>0.000000</td>\n",
              "      <td>0</td>\n",
              "    </tr>\n",
              "    <tr>\n",
              "      <th>4</th>\n",
              "      <td>0.000000</td>\n",
              "      <td>0.688442</td>\n",
              "      <td>0.327869</td>\n",
              "      <td>0.353535</td>\n",
              "      <td>0.198582</td>\n",
              "      <td>0.642325</td>\n",
              "      <td>0.943638</td>\n",
              "      <td>0.200000</td>\n",
              "      <td>1</td>\n",
              "    </tr>\n",
              "  </tbody>\n",
              "</table>\n",
              "</div>"
            ],
            "text/plain": [
              "   Pregnancies   Glucose  BloodPressure  SkinThickness   Insulin       BMI  \\\n",
              "0     0.352941  0.743719       0.590164       0.353535  0.000000  0.500745   \n",
              "1     0.058824  0.427136       0.540984       0.292929  0.000000  0.396423   \n",
              "2     0.470588  0.919598       0.524590       0.000000  0.000000  0.347243   \n",
              "3     0.058824  0.447236       0.540984       0.232323  0.111111  0.418778   \n",
              "4     0.000000  0.688442       0.327869       0.353535  0.198582  0.642325   \n",
              "\n",
              "   DiabetesPedigreeFunction       Age  Outcome  \n",
              "0                  0.234415  0.483333        1  \n",
              "1                  0.116567  0.166667        0  \n",
              "2                  0.253629  0.183333        1  \n",
              "3                  0.038002  0.000000        0  \n",
              "4                  0.943638  0.200000        1  "
            ]
          },
          "metadata": {
            "tags": []
          },
          "execution_count": 5
        }
      ]
    },
    {
      "metadata": {
        "id": "zfp6nkHrK8On",
        "colab_type": "text"
      },
      "cell_type": "markdown",
      "source": [
        "### Now, we'll use tensorflow's `neumeric feature columns` and feed it all the normalized columns."
      ]
    },
    {
      "metadata": {
        "id": "hRwG6ZEaQvO8",
        "colab_type": "code",
        "colab": {
          "base_uri": "https://localhost:8080/",
          "height": 153
        },
        "outputId": "bc15761d-3ac5-42a6-d87f-d8c9ffbaaff0"
      },
      "cell_type": "code",
      "source": [
        "feature_cols = []\n",
        "\n",
        "for col in cols_to_norm:\n",
        "  feature_cols.append(tf.feature_column.numeric_column(col))\n",
        "  \n",
        "feature_cols"
      ],
      "execution_count": 6,
      "outputs": [
        {
          "output_type": "execute_result",
          "data": {
            "text/plain": [
              "[_NumericColumn(key='Pregnancies', shape=(1,), default_value=None, dtype=tf.float32, normalizer_fn=None),\n",
              " _NumericColumn(key='Glucose', shape=(1,), default_value=None, dtype=tf.float32, normalizer_fn=None),\n",
              " _NumericColumn(key='BloodPressure', shape=(1,), default_value=None, dtype=tf.float32, normalizer_fn=None),\n",
              " _NumericColumn(key='SkinThickness', shape=(1,), default_value=None, dtype=tf.float32, normalizer_fn=None),\n",
              " _NumericColumn(key='Insulin', shape=(1,), default_value=None, dtype=tf.float32, normalizer_fn=None),\n",
              " _NumericColumn(key='BMI', shape=(1,), default_value=None, dtype=tf.float32, normalizer_fn=None),\n",
              " _NumericColumn(key='DiabetesPedigreeFunction', shape=(1,), default_value=None, dtype=tf.float32, normalizer_fn=None),\n",
              " _NumericColumn(key='Age', shape=(1,), default_value=None, dtype=tf.float32, normalizer_fn=None)]"
            ]
          },
          "metadata": {
            "tags": []
          },
          "execution_count": 6
        }
      ]
    },
    {
      "metadata": {
        "id": "npd4zia8TA5Q",
        "colab_type": "text"
      },
      "cell_type": "markdown",
      "source": [
        "### Now we'll perform `Train - Test - Split` using Scikit Learn\n",
        "* For that, first we'll remove the `Outcome` from our training dataset.\n",
        "* Then use the `Outcome` column for labels.\n"
      ]
    },
    {
      "metadata": {
        "id": "gd95IiUIRI84",
        "colab_type": "code",
        "colab": {
          "base_uri": "https://localhost:8080/",
          "height": 204
        },
        "outputId": "0e8d2e00-3a40-44fb-9f1b-7490c7095cca"
      },
      "cell_type": "code",
      "source": [
        "X_data = diabetes.drop('Outcome', axis=1)\n",
        "X_data.head()"
      ],
      "execution_count": 7,
      "outputs": [
        {
          "output_type": "execute_result",
          "data": {
            "text/html": [
              "<div>\n",
              "<style scoped>\n",
              "    .dataframe tbody tr th:only-of-type {\n",
              "        vertical-align: middle;\n",
              "    }\n",
              "\n",
              "    .dataframe tbody tr th {\n",
              "        vertical-align: top;\n",
              "    }\n",
              "\n",
              "    .dataframe thead th {\n",
              "        text-align: right;\n",
              "    }\n",
              "</style>\n",
              "<table border=\"1\" class=\"dataframe\">\n",
              "  <thead>\n",
              "    <tr style=\"text-align: right;\">\n",
              "      <th></th>\n",
              "      <th>Pregnancies</th>\n",
              "      <th>Glucose</th>\n",
              "      <th>BloodPressure</th>\n",
              "      <th>SkinThickness</th>\n",
              "      <th>Insulin</th>\n",
              "      <th>BMI</th>\n",
              "      <th>DiabetesPedigreeFunction</th>\n",
              "      <th>Age</th>\n",
              "    </tr>\n",
              "  </thead>\n",
              "  <tbody>\n",
              "    <tr>\n",
              "      <th>0</th>\n",
              "      <td>0.352941</td>\n",
              "      <td>0.743719</td>\n",
              "      <td>0.590164</td>\n",
              "      <td>0.353535</td>\n",
              "      <td>0.000000</td>\n",
              "      <td>0.500745</td>\n",
              "      <td>0.234415</td>\n",
              "      <td>0.483333</td>\n",
              "    </tr>\n",
              "    <tr>\n",
              "      <th>1</th>\n",
              "      <td>0.058824</td>\n",
              "      <td>0.427136</td>\n",
              "      <td>0.540984</td>\n",
              "      <td>0.292929</td>\n",
              "      <td>0.000000</td>\n",
              "      <td>0.396423</td>\n",
              "      <td>0.116567</td>\n",
              "      <td>0.166667</td>\n",
              "    </tr>\n",
              "    <tr>\n",
              "      <th>2</th>\n",
              "      <td>0.470588</td>\n",
              "      <td>0.919598</td>\n",
              "      <td>0.524590</td>\n",
              "      <td>0.000000</td>\n",
              "      <td>0.000000</td>\n",
              "      <td>0.347243</td>\n",
              "      <td>0.253629</td>\n",
              "      <td>0.183333</td>\n",
              "    </tr>\n",
              "    <tr>\n",
              "      <th>3</th>\n",
              "      <td>0.058824</td>\n",
              "      <td>0.447236</td>\n",
              "      <td>0.540984</td>\n",
              "      <td>0.232323</td>\n",
              "      <td>0.111111</td>\n",
              "      <td>0.418778</td>\n",
              "      <td>0.038002</td>\n",
              "      <td>0.000000</td>\n",
              "    </tr>\n",
              "    <tr>\n",
              "      <th>4</th>\n",
              "      <td>0.000000</td>\n",
              "      <td>0.688442</td>\n",
              "      <td>0.327869</td>\n",
              "      <td>0.353535</td>\n",
              "      <td>0.198582</td>\n",
              "      <td>0.642325</td>\n",
              "      <td>0.943638</td>\n",
              "      <td>0.200000</td>\n",
              "    </tr>\n",
              "  </tbody>\n",
              "</table>\n",
              "</div>"
            ],
            "text/plain": [
              "   Pregnancies   Glucose  BloodPressure  SkinThickness   Insulin       BMI  \\\n",
              "0     0.352941  0.743719       0.590164       0.353535  0.000000  0.500745   \n",
              "1     0.058824  0.427136       0.540984       0.292929  0.000000  0.396423   \n",
              "2     0.470588  0.919598       0.524590       0.000000  0.000000  0.347243   \n",
              "3     0.058824  0.447236       0.540984       0.232323  0.111111  0.418778   \n",
              "4     0.000000  0.688442       0.327869       0.353535  0.198582  0.642325   \n",
              "\n",
              "   DiabetesPedigreeFunction       Age  \n",
              "0                  0.234415  0.483333  \n",
              "1                  0.116567  0.166667  \n",
              "2                  0.253629  0.183333  \n",
              "3                  0.038002  0.000000  \n",
              "4                  0.943638  0.200000  "
            ]
          },
          "metadata": {
            "tags": []
          },
          "execution_count": 7
        }
      ]
    },
    {
      "metadata": {
        "id": "dltN4FtKSNKR",
        "colab_type": "code",
        "colab": {
          "base_uri": "https://localhost:8080/",
          "height": 119
        },
        "outputId": "6580a5c1-fcfa-4c1d-ded7-b22a30cd7882"
      },
      "cell_type": "code",
      "source": [
        "labels = diabetes['Outcome']\n",
        "labels.head()"
      ],
      "execution_count": 8,
      "outputs": [
        {
          "output_type": "execute_result",
          "data": {
            "text/plain": [
              "0    1\n",
              "1    0\n",
              "2    1\n",
              "3    0\n",
              "4    1\n",
              "Name: Outcome, dtype: int64"
            ]
          },
          "metadata": {
            "tags": []
          },
          "execution_count": 8
        }
      ]
    },
    {
      "metadata": {
        "id": "dZWhzzdjT_9I",
        "colab_type": "code",
        "colab": {}
      },
      "cell_type": "code",
      "source": [
        "from sklearn.model_selection import train_test_split\n",
        "X_train, X_test, y_train, y_test = train_test_split(X_data, labels, test_size=0.3)"
      ],
      "execution_count": 0,
      "outputs": []
    },
    {
      "metadata": {
        "id": "5-MEQF0xVHzW",
        "colab_type": "text"
      },
      "cell_type": "markdown",
      "source": [
        "### Now we'll create our input function using tensorflow's estimator API.\n",
        "* In this function, we'll provide out training data X_train and y_train."
      ]
    },
    {
      "metadata": {
        "id": "WGPjC1MMUL2a",
        "colab_type": "code",
        "colab": {}
      },
      "cell_type": "code",
      "source": [
        "input_func = tf.estimator.inputs.pandas_input_fn(x=X_train, y=y_train, batch_size=10, num_epochs=1000, shuffle=True)\n",
        "# num_epochs -> number of iterations\n",
        "# shuffle = true -> shuffle training data on each iteration"
      ],
      "execution_count": 0,
      "outputs": []
    },
    {
      "metadata": {
        "id": "F2ceKRcbWAzM",
        "colab_type": "text"
      },
      "cell_type": "markdown",
      "source": [
        "### Now we'll make our Deep Neuran Network Model"
      ]
    },
    {
      "metadata": {
        "id": "xJhd43xXUsN3",
        "colab_type": "code",
        "colab": {
          "base_uri": "https://localhost:8080/",
          "height": 88
        },
        "outputId": "85028b10-eee7-4e0a-fcf6-d3a829447252"
      },
      "cell_type": "code",
      "source": [
        "dnn_model = tf.estimator.DNNClassifier(hidden_units=[20, 10, 10, 20], feature_columns=feature_cols, n_classes=2)\n",
        "# n_classes = 2 -> We've only 2 types of Outcomes '0' or '1'"
      ],
      "execution_count": 11,
      "outputs": [
        {
          "output_type": "stream",
          "text": [
            "INFO:tensorflow:Using default config.\n",
            "WARNING:tensorflow:Using temporary folder as model directory: /tmp/tmp38owpcn6\n",
            "INFO:tensorflow:Using config: {'_model_dir': '/tmp/tmp38owpcn6', '_tf_random_seed': None, '_save_summary_steps': 100, '_save_checkpoints_steps': None, '_save_checkpoints_secs': 600, '_session_config': None, '_keep_checkpoint_max': 5, '_keep_checkpoint_every_n_hours': 10000, '_log_step_count_steps': 100, '_train_distribute': None, '_device_fn': None, '_service': None, '_cluster_spec': <tensorflow.python.training.server_lib.ClusterSpec object at 0x7f7ba18faa20>, '_task_type': 'worker', '_task_id': 0, '_global_id_in_cluster': 0, '_master': '', '_evaluation_master': '', '_is_chief': True, '_num_ps_replicas': 0, '_num_worker_replicas': 1}\n"
          ],
          "name": "stdout"
        }
      ]
    },
    {
      "metadata": {
        "id": "arFg3JREXedB",
        "colab_type": "text"
      },
      "cell_type": "markdown",
      "source": [
        "### Train the Model\n",
        "* To train a model, it takes 2 arguments  \n",
        "  1. input_fn\n",
        "  2. steps"
      ]
    },
    {
      "metadata": {
        "id": "S4vljN3eV_Ra",
        "colab_type": "code",
        "colab": {
          "base_uri": "https://localhost:8080/",
          "height": 510
        },
        "outputId": "3c6c0090-b6c8-4cd2-d538-1d5ae9fe500b"
      },
      "cell_type": "code",
      "source": [
        "dnn_model.train(input_fn=input_func, steps=1000)"
      ],
      "execution_count": 12,
      "outputs": [
        {
          "output_type": "stream",
          "text": [
            "INFO:tensorflow:Calling model_fn.\n",
            "INFO:tensorflow:Done calling model_fn.\n",
            "INFO:tensorflow:Create CheckpointSaverHook.\n",
            "INFO:tensorflow:Graph was finalized.\n",
            "INFO:tensorflow:Running local_init_op.\n",
            "INFO:tensorflow:Done running local_init_op.\n",
            "INFO:tensorflow:Saving checkpoints for 0 into /tmp/tmp38owpcn6/model.ckpt.\n",
            "INFO:tensorflow:loss = 7.0727863, step = 0\n",
            "INFO:tensorflow:global_step/sec: 198.181\n",
            "INFO:tensorflow:loss = 6.7325926, step = 100 (0.509 sec)\n",
            "INFO:tensorflow:global_step/sec: 191.535\n",
            "INFO:tensorflow:loss = 7.3334637, step = 200 (0.522 sec)\n",
            "INFO:tensorflow:global_step/sec: 182.423\n",
            "INFO:tensorflow:loss = 6.3855305, step = 300 (0.549 sec)\n",
            "INFO:tensorflow:global_step/sec: 189.35\n",
            "INFO:tensorflow:loss = 6.9438725, step = 400 (0.530 sec)\n",
            "INFO:tensorflow:global_step/sec: 184.242\n",
            "INFO:tensorflow:loss = 3.6345963, step = 500 (0.540 sec)\n",
            "INFO:tensorflow:global_step/sec: 189.647\n",
            "INFO:tensorflow:loss = 4.693725, step = 600 (0.527 sec)\n",
            "INFO:tensorflow:global_step/sec: 193.167\n",
            "INFO:tensorflow:loss = 5.5065823, step = 700 (0.518 sec)\n",
            "INFO:tensorflow:global_step/sec: 192.957\n",
            "INFO:tensorflow:loss = 2.9241004, step = 800 (0.519 sec)\n",
            "INFO:tensorflow:global_step/sec: 193.595\n",
            "INFO:tensorflow:loss = 5.5597324, step = 900 (0.515 sec)\n",
            "INFO:tensorflow:Saving checkpoints for 1000 into /tmp/tmp38owpcn6/model.ckpt.\n",
            "INFO:tensorflow:Loss for final step: 4.583516.\n"
          ],
          "name": "stdout"
        },
        {
          "output_type": "execute_result",
          "data": {
            "text/plain": [
              "<tensorflow.python.estimator.canned.dnn.DNNClassifier at 0x7f7ba18fa7b8>"
            ]
          },
          "metadata": {
            "tags": []
          },
          "execution_count": 12
        }
      ]
    },
    {
      "metadata": {
        "id": "ZSLsp44DX_yt",
        "colab_type": "text"
      },
      "cell_type": "markdown",
      "source": [
        "### After training our model it is time to evaluate it using our test data.\n",
        "*  We'll follow the same procedure which we used to create `input_func` but with minor modifications.\n",
        "* In the evaluation, we only need 1 step and we don't need to shuffle it."
      ]
    },
    {
      "metadata": {
        "id": "Qp3ewN8HX26Q",
        "colab_type": "code",
        "colab": {
          "base_uri": "https://localhost:8080/",
          "height": 428
        },
        "outputId": "2bf26e6a-b230-4e0c-d55a-281a05904e6b"
      },
      "cell_type": "code",
      "source": [
        "eval_input_func = tf.estimator.inputs.pandas_input_fn(x=X_test, y=y_test, batch_size=10, num_epochs=1, shuffle=False)\n",
        "\n",
        "dnn_model.evaluate(eval_input_func)"
      ],
      "execution_count": 13,
      "outputs": [
        {
          "output_type": "stream",
          "text": [
            "INFO:tensorflow:Calling model_fn.\n",
            "WARNING:tensorflow:Trapezoidal rule is known to produce incorrect PR-AUCs; please switch to \"careful_interpolation\" instead.\n",
            "WARNING:tensorflow:Trapezoidal rule is known to produce incorrect PR-AUCs; please switch to \"careful_interpolation\" instead.\n",
            "INFO:tensorflow:Done calling model_fn.\n",
            "INFO:tensorflow:Starting evaluation at 2018-09-16-13:04:55\n",
            "INFO:tensorflow:Graph was finalized.\n",
            "INFO:tensorflow:Restoring parameters from /tmp/tmp38owpcn6/model.ckpt-1000\n",
            "INFO:tensorflow:Running local_init_op.\n",
            "INFO:tensorflow:Done running local_init_op.\n",
            "INFO:tensorflow:Finished evaluation at 2018-09-16-13:04:56\n",
            "INFO:tensorflow:Saving dict for global step 1000: accuracy = 0.7619048, accuracy_baseline = 0.64069265, auc = 0.8299414, auc_precision_recall = 0.7007514, average_loss = 0.49772367, global_step = 1000, label/mean = 0.35930735, loss = 4.7905903, precision = 0.68421054, prediction/mean = 0.34205174, recall = 0.62650603\n",
            "INFO:tensorflow:Saving 'checkpoint_path' summary for global step 1000: /tmp/tmp38owpcn6/model.ckpt-1000\n"
          ],
          "name": "stdout"
        },
        {
          "output_type": "execute_result",
          "data": {
            "text/plain": [
              "{'accuracy': 0.7619048,\n",
              " 'accuracy_baseline': 0.64069265,\n",
              " 'auc': 0.8299414,\n",
              " 'auc_precision_recall': 0.7007514,\n",
              " 'average_loss': 0.49772367,\n",
              " 'global_step': 1000,\n",
              " 'label/mean': 0.35930735,\n",
              " 'loss': 4.7905903,\n",
              " 'precision': 0.68421054,\n",
              " 'prediction/mean': 0.34205174,\n",
              " 'recall': 0.62650603}"
            ]
          },
          "metadata": {
            "tags": []
          },
          "execution_count": 13
        }
      ]
    },
    {
      "metadata": {
        "id": "DkAdsPVoZplX",
        "colab_type": "text"
      },
      "cell_type": "markdown",
      "source": [
        "### Making some predictions\n",
        "* We'll make predictions on training data and follow the same procedure as input_func\n",
        "* But while making predictions, we'll not provide it the y_test(Outcome) data."
      ]
    },
    {
      "metadata": {
        "id": "87DDArahY0Zc",
        "colab_type": "code",
        "colab": {}
      },
      "cell_type": "code",
      "source": [
        "pred_input_func = tf.estimator.inputs.pandas_input_fn(x=X_train, batch_size=10, num_epochs=10, shuffle=False)\n",
        "\n",
        "predictions = dnn_model.predict(pred_input_func)"
      ],
      "execution_count": 0,
      "outputs": []
    },
    {
      "metadata": {
        "id": "o59XguQUbZNY",
        "colab_type": "text"
      },
      "cell_type": "markdown",
      "source": [
        "### Now let's list the first 5 predictions and first 5 test data's original outcomes."
      ]
    },
    {
      "metadata": {
        "id": "yV-2ceuraMoy",
        "colab_type": "code",
        "colab": {
          "base_uri": "https://localhost:8080/",
          "height": 544
        },
        "outputId": "33ab8060-90d3-4b84-fac8-95e4e2e13cbb"
      },
      "cell_type": "code",
      "source": [
        "predictions = list(predictions)\n",
        "predictions[:5]"
      ],
      "execution_count": 15,
      "outputs": [
        {
          "output_type": "stream",
          "text": [
            "INFO:tensorflow:Calling model_fn.\n",
            "INFO:tensorflow:Done calling model_fn.\n",
            "INFO:tensorflow:Graph was finalized.\n",
            "INFO:tensorflow:Restoring parameters from /tmp/tmp38owpcn6/model.ckpt-1000\n",
            "INFO:tensorflow:Running local_init_op.\n",
            "INFO:tensorflow:Done running local_init_op.\n"
          ],
          "name": "stdout"
        },
        {
          "output_type": "execute_result",
          "data": {
            "text/plain": [
              "[{'class_ids': array([1]),\n",
              "  'classes': array([b'1'], dtype=object),\n",
              "  'logistic': array([0.90467334], dtype=float32),\n",
              "  'logits': array([2.2502644], dtype=float32),\n",
              "  'probabilities': array([0.09532666, 0.90467334], dtype=float32)},\n",
              " {'class_ids': array([0]),\n",
              "  'classes': array([b'0'], dtype=object),\n",
              "  'logistic': array([0.06816204], dtype=float32),\n",
              "  'logits': array([-2.615271], dtype=float32),\n",
              "  'probabilities': array([0.9318379 , 0.06816203], dtype=float32)},\n",
              " {'class_ids': array([0]),\n",
              "  'classes': array([b'0'], dtype=object),\n",
              "  'logistic': array([0.46010506], dtype=float32),\n",
              "  'logits': array([-0.1599196], dtype=float32),\n",
              "  'probabilities': array([0.53989494, 0.4601051 ], dtype=float32)},\n",
              " {'class_ids': array([0]),\n",
              "  'classes': array([b'0'], dtype=object),\n",
              "  'logistic': array([0.04111069], dtype=float32),\n",
              "  'logits': array([-3.1495075], dtype=float32),\n",
              "  'probabilities': array([0.9588893 , 0.04111069], dtype=float32)},\n",
              " {'class_ids': array([1]),\n",
              "  'classes': array([b'1'], dtype=object),\n",
              "  'logistic': array([0.73905927], dtype=float32),\n",
              "  'logits': array([1.041085], dtype=float32),\n",
              "  'probabilities': array([0.26094067, 0.73905927], dtype=float32)}]"
            ]
          },
          "metadata": {
            "tags": []
          },
          "execution_count": 15
        }
      ]
    },
    {
      "metadata": {
        "id": "PfIoRUQrbp0a",
        "colab_type": "code",
        "colab": {
          "base_uri": "https://localhost:8080/",
          "height": 119
        },
        "outputId": "2d63c507-6b22-49bc-a610-9ea2fa33c710"
      },
      "cell_type": "code",
      "source": [
        "y_train.head()"
      ],
      "execution_count": 16,
      "outputs": [
        {
          "output_type": "execute_result",
          "data": {
            "text/plain": [
              "236    1\n",
              "422    0\n",
              "635    1\n",
              "482    0\n",
              "750    1\n",
              "Name: Outcome, dtype: int64"
            ]
          },
          "metadata": {
            "tags": []
          },
          "execution_count": 16
        }
      ]
    },
    {
      "metadata": {
        "id": "akDjQErlb5Yo",
        "colab_type": "code",
        "colab": {
          "base_uri": "https://localhost:8080/",
          "height": 51
        },
        "outputId": "18930083-d0d8-4f48-e664-0098a76eb339"
      },
      "cell_type": "code",
      "source": [
        "print('Comparing First Element:', 'Predictions:' ,predictions[0]['class_ids'][0], '&& y_test: ',y_train[573])\n",
        "print('Probability', predictions[0]['probabilities'].max())"
      ],
      "execution_count": 17,
      "outputs": [
        {
          "output_type": "stream",
          "text": [
            "Comparing First Element: Predictions: 1 && y_test:  0\n",
            "Probability 0.90467334\n"
          ],
          "name": "stdout"
        }
      ]
    }
  ]
}